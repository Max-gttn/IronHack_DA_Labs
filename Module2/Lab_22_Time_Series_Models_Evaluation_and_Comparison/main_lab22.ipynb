{
 "cells": [
  {
   "cell_type": "code",
   "execution_count": 8,
   "id": "aa7ddab7",
   "metadata": {},
   "outputs": [
    {
     "name": "stdout",
     "output_type": "stream",
     "text": [
      "Collecting yfinance\n",
      "  Using cached yfinance-0.1.69-py2.py3-none-any.whl (26 kB)\n",
      "Collecting multitasking>=0.0.7\n",
      "  Using cached multitasking-0.0.10.tar.gz (8.2 kB)\n",
      "Requirement already satisfied: lxml>=4.5.1 in /opt/anaconda3/lib/python3.9/site-packages (from yfinance) (4.6.3)\n",
      "Requirement already satisfied: requests>=2.26 in /opt/anaconda3/lib/python3.9/site-packages (from yfinance) (2.26.0)\n",
      "Requirement already satisfied: pandas>=0.24 in /opt/anaconda3/lib/python3.9/site-packages (from yfinance) (1.3.4)\n",
      "Requirement already satisfied: numpy>=1.15 in /opt/anaconda3/lib/python3.9/site-packages (from yfinance) (1.20.3)\n",
      "Requirement already satisfied: python-dateutil>=2.7.3 in /opt/anaconda3/lib/python3.9/site-packages (from pandas>=0.24->yfinance) (2.8.2)\n",
      "Requirement already satisfied: pytz>=2017.3 in /opt/anaconda3/lib/python3.9/site-packages (from pandas>=0.24->yfinance) (2021.3)\n",
      "Requirement already satisfied: six>=1.5 in /opt/anaconda3/lib/python3.9/site-packages (from python-dateutil>=2.7.3->pandas>=0.24->yfinance) (1.16.0)\n",
      "Requirement already satisfied: idna<4,>=2.5 in /opt/anaconda3/lib/python3.9/site-packages (from requests>=2.26->yfinance) (3.2)\n",
      "Requirement already satisfied: charset-normalizer~=2.0.0 in /opt/anaconda3/lib/python3.9/site-packages (from requests>=2.26->yfinance) (2.0.4)\n",
      "Requirement already satisfied: urllib3<1.27,>=1.21.1 in /opt/anaconda3/lib/python3.9/site-packages (from requests>=2.26->yfinance) (1.26.7)\n",
      "Requirement already satisfied: certifi>=2017.4.17 in /opt/anaconda3/lib/python3.9/site-packages (from requests>=2.26->yfinance) (2021.10.8)\n",
      "Building wheels for collected packages: multitasking\n",
      "  Building wheel for multitasking (setup.py) ... \u001b[?25ldone\n",
      "\u001b[?25h  Created wheel for multitasking: filename=multitasking-0.0.10-py3-none-any.whl size=8500 sha256=94a295ff8d25d70e2942d11a75dd58c5f11916de4acf31abcef107b821c859d5\n",
      "  Stored in directory: /Users/maxime/Library/Caches/pip/wheels/f2/b5/2c/59ba95dcf854e542944c75fe3da584e4e3833b319735a0546c\n",
      "Successfully built multitasking\n",
      "Installing collected packages: multitasking, yfinance\n",
      "Successfully installed multitasking-0.0.10 yfinance-0.1.69\n",
      "Note: you may need to restart the kernel to use updated packages.\n"
     ]
    }
   ],
   "source": [
    "pip install yfinance"
   ]
  },
  {
   "cell_type": "code",
   "execution_count": 9,
   "id": "f44e84ff",
   "metadata": {},
   "outputs": [],
   "source": [
    "import yfinance as yf"
   ]
  },
  {
   "cell_type": "code",
   "execution_count": 18,
   "id": "e014c7db",
   "metadata": {},
   "outputs": [],
   "source": [
    "import warnings\n",
    "\n",
    "# Setup\n",
    "warnings.filterwarnings(\"ignore\")"
   ]
  },
  {
   "cell_type": "code",
   "execution_count": 60,
   "id": "9e192569",
   "metadata": {},
   "outputs": [
    {
     "name": "stdout",
     "output_type": "stream",
     "text": [
      "[*********************100%***********************]  1 of 1 completed\n"
     ]
    },
    {
     "data": {
      "text/html": [
       "<div>\n",
       "<style scoped>\n",
       "    .dataframe tbody tr th:only-of-type {\n",
       "        vertical-align: middle;\n",
       "    }\n",
       "\n",
       "    .dataframe tbody tr th {\n",
       "        vertical-align: top;\n",
       "    }\n",
       "\n",
       "    .dataframe thead th {\n",
       "        text-align: right;\n",
       "    }\n",
       "</style>\n",
       "<table border=\"1\" class=\"dataframe\">\n",
       "  <thead>\n",
       "    <tr style=\"text-align: right;\">\n",
       "      <th></th>\n",
       "      <th>Close</th>\n",
       "    </tr>\n",
       "    <tr>\n",
       "      <th>Date</th>\n",
       "      <th></th>\n",
       "    </tr>\n",
       "  </thead>\n",
       "  <tbody>\n",
       "    <tr>\n",
       "      <th>2014-09-17</th>\n",
       "      <td>457.33</td>\n",
       "    </tr>\n",
       "    <tr>\n",
       "      <th>2014-09-18</th>\n",
       "      <td>424.44</td>\n",
       "    </tr>\n",
       "    <tr>\n",
       "      <th>2014-09-19</th>\n",
       "      <td>394.80</td>\n",
       "    </tr>\n",
       "    <tr>\n",
       "      <th>2014-09-20</th>\n",
       "      <td>408.90</td>\n",
       "    </tr>\n",
       "    <tr>\n",
       "      <th>2014-09-21</th>\n",
       "      <td>398.82</td>\n",
       "    </tr>\n",
       "  </tbody>\n",
       "</table>\n",
       "</div>"
      ],
      "text/plain": [
       "             Close\n",
       "Date              \n",
       "2014-09-17  457.33\n",
       "2014-09-18  424.44\n",
       "2014-09-19  394.80\n",
       "2014-09-20  408.90\n",
       "2014-09-21  398.82"
      ]
     },
     "execution_count": 60,
     "metadata": {},
     "output_type": "execute_result"
    }
   ],
   "source": [
    "# Import pandas\n",
    "import pandas as pd\n",
    "\n",
    "import numpy as np\n",
    "from matplotlib import pyplot as plt\n",
    "from statsmodels.graphics.tsaplots import plot_acf\n",
    "from statsmodels.tsa.stattools import adfuller\n",
    "from statsmodels.tsa.arima_model import ARMA\n",
    "from statsmodels.tools.eval_measures import rmse\n",
    "from statsmodels.tools.eval_measures import aic\n",
    "from statsmodels.tools.eval_measures import bic\n",
    "\n",
    "\n",
    "# Download the datafile from yfinance\n",
    "data = yf.download(\"BTC-USD\", period=\"max\")[['Close']]\n",
    "data.index = pd.to_datetime(data.index)\n",
    "data.head().round(2)"
   ]
  },
  {
   "cell_type": "code",
   "execution_count": 73,
   "id": "40d16a5a",
   "metadata": {},
   "outputs": [
    {
     "data": {
      "text/plain": [
       "(2682, 1)"
      ]
     },
     "execution_count": 73,
     "metadata": {},
     "output_type": "execute_result"
    }
   ],
   "source": [
    "data.shape"
   ]
  },
  {
   "cell_type": "markdown",
   "id": "2136e8b3",
   "metadata": {},
   "source": [
    "Do we have stationnary data ?"
   ]
  },
  {
   "cell_type": "code",
   "execution_count": 14,
   "id": "6bc45d31",
   "metadata": {},
   "outputs": [
    {
     "name": "stdout",
     "output_type": "stream",
     "text": [
      "ADF Test Statistic: -1.10\n",
      "5% Critical Value: -2.86\n",
      "p-value: 0.71\n"
     ]
    }
   ],
   "source": [
    "result = adfuller(data)\n",
    "print('ADF Test Statistic: %.2f' % result[0])\n",
    "print('5%% Critical Value: %.2f' % result[4]['5%'])\n",
    "print('p-value: %.2f' % result[1])\n",
    "\n",
    "# p-value > 0.05 the data is non stationnary"
   ]
  },
  {
   "cell_type": "code",
   "execution_count": 93,
   "id": "e46dd88d",
   "metadata": {},
   "outputs": [
    {
     "data": {
      "image/png": "[encoded data removed]",
      "text/plain": [
       "<Figure size 432x288 with 4 Axes>"
      ]
     },
     "execution_count": 93,
     "metadata": {},
     "output_type": "execute_result"
    },
    {
     "data": {
      "image/png": "[encoded data removed]",
      "text/plain": [
       "<Figure size 432x288 with 4 Axes>"
      ]
     },
     "metadata": {
      "needs_background": "light"
     },
     "output_type": "display_data"
    }
   ],
   "source": [
    "from statsmodels.tsa.seasonal import seasonal_decompose\n",
    "\n",
    "decompose = seasonal_decompose(data['Close'].dropna(), freq=200)\n",
    "decompose.plot()"
   ]
  },
  {
   "cell_type": "markdown",
   "id": "41b35315",
   "metadata": {},
   "source": [
    "What about autocorrelation?"
   ]
  },
  {
   "cell_type": "code",
   "execution_count": 15,
   "id": "663ce908",
   "metadata": {},
   "outputs": [
    {
     "data": {
      "image/png": "[encoded data removed]",
      "text/plain": [
       "<Figure size 432x288 with 1 Axes>"
      ]
     },
     "metadata": {
      "needs_background": "light"
     },
     "output_type": "display_data"
    }
   ],
   "source": [
    "# Calculate the ACF (via statsmodel)\n",
    "plot_acf(data)\n",
    "# Show the data as a plot (via matplotlib)\n",
    "plt.show()"
   ]
  },
  {
   "cell_type": "code",
   "execution_count": null,
   "id": "877b133c",
   "metadata": {},
   "outputs": [],
   "source": []
  },
  {
   "cell_type": "code",
   "execution_count": 75,
   "id": "8decd1f9",
   "metadata": {},
   "outputs": [
    {
     "data": {
      "image/png": "[encoded data removed]",
      "text/plain": [
       "<Figure size 720x504 with 1 Axes>"
      ]
     },
     "metadata": {
      "needs_background": "light"
     },
     "output_type": "display_data"
    }
   ],
   "source": [
    "# transform to stationnary data\n",
    "\n",
    "data['Difference'] = np.log(data['Close']).diff().dropna() # diff for difference\n",
    "\n",
    "# Plot the Change\n",
    "plt.figure(figsize=(10, 7))\n",
    "plt.plot(data['Difference'])\n",
    "plt.title('stationnary data', fontsize=14)\n",
    "plt.xlabel('Year', fontsize=12)\n",
    "plt.ylabel('Difference', fontsize=12)\n",
    "plt.show()"
   ]
  },
  {
   "cell_type": "markdown",
   "id": "7c60e239",
   "metadata": {},
   "source": [
    "Implement AR and MA models."
   ]
  },
  {
   "cell_type": "code",
   "execution_count": null,
   "id": "fbba4abf",
   "metadata": {},
   "outputs": [],
   "source": [
    "partial autocorrelation"
   ]
  },
  {
   "cell_type": "code",
   "execution_count": 95,
   "id": "afcba96a",
   "metadata": {},
   "outputs": [
    {
     "name": "stdout",
     "output_type": "stream",
     "text": [
      "ADF Test Statistic: -15.54\n",
      "5% Critical Value: -2.86\n",
      "p-value: 0.00\n"
     ]
    }
   ],
   "source": [
    "result = adfuller(data['Difference'].dropna())\n",
    "print('ADF Test Statistic: %.2f' % result[0])\n",
    "print('5%% Critical Value: %.2f' % result[4]['5%'])\n",
    "print('p-value: %.2f' % result[1])\n",
    "\n",
    "# p-value < 0.05 the data is stationnary"
   ]
  },
  {
   "cell_type": "code",
   "execution_count": 76,
   "id": "cf90970c",
   "metadata": {},
   "outputs": [],
   "source": [
    "# Split data\n",
    "test = data['Difference'][-885:]\n",
    "train = data['Difference'][:-885]"
   ]
  },
  {
   "cell_type": "code",
   "execution_count": 77,
   "id": "1944e5d0",
   "metadata": {},
   "outputs": [
    {
     "name": "stdout",
     "output_type": "stream",
     "text": [
      "RUNNING THE L-BFGS-B CODE\n",
      "\n",
      "           * * *\n",
      "\n",
      "Machine precision = 2.220D-16\n",
      " N =            2     M =           12\n",
      "\n",
      "At X0         0 variables are exactly at the bounds\n",
      "\n",
      "At iterate    0    f= -1.82038D+00    |proj g|=  2.77044D-02\n",
      "\n",
      "           * * *\n",
      "\n",
      "Tit   = total number of iterations\n",
      "Tnf   = total number of function evaluations\n",
      "Tnint = total number of segments explored during Cauchy searches\n",
      "Skip  = number of BFGS updates skipped\n",
      "Nact  = number of active bounds at final generalized Cauchy point\n",
      "Projg = norm of the final projected gradient\n",
      "F     = final function value\n",
      "\n",
      "           * * *\n",
      "\n",
      "   N    Tit     Tnf  Tnint  Skip  Nact     Projg        F\n",
      "    2      2      5      1     0     0   0.000D+00  -1.820D+00\n",
      "  F =  -1.8203771030065135     \n",
      "\n",
      "CONVERGENCE: NORM_OF_PROJECTED_GRADIENT_<=_PGTOL            \n",
      "                              ARMA Model Results                              \n",
      "==============================================================================\n",
      "Dep. Variable:             Difference   No. Observations:                 1796\n",
      "Model:                     ARMA(1, 0)   Log Likelihood                3269.397\n",
      "Method:                       css-mle   S.D. of innovations              0.039\n",
      "Date:                Wed, 19 Jan 2022   AIC                          -6532.795\n",
      "Time:                        16:10:15   BIC                          -6516.315\n",
      "Sample:                    09-18-2014   HQIC                         -6526.710\n",
      "                         - 08-18-2019                                         \n",
      "====================================================================================\n",
      "                       coef    std err          z      P>|z|      [0.025      0.975]\n",
      "------------------------------------------------------------------------------------\n",
      "const                0.0017      0.001      1.878      0.060    -7.6e-05       0.004\n",
      "ar.L1.Difference  4.172e-05      0.024      0.002      0.999      -0.046       0.046\n",
      "                                    Roots                                    \n",
      "=============================================================================\n",
      "                  Real          Imaginary           Modulus         Frequency\n",
      "-----------------------------------------------------------------------------\n",
      "AR.1        23970.9730           +0.0000j        23970.9730            0.0000\n",
      "-----------------------------------------------------------------------------\n"
     ]
    },
    {
     "name": "stderr",
     "output_type": "stream",
     "text": [
      " This problem is unconstrained.\n"
     ]
    }
   ],
   "source": [
    "# AR model\n",
    "model = ARMA(train.dropna(), order=(1,0)) #\n",
    "ar1 = model.fit()\n",
    "\n",
    "# summary of fit model\n",
    "print(ar1.summary())\n",
    "forecast_ar1 = ar1.predict(start=test.index[0], end=test.index[-1])\n",
    "\n",
    "#df['forecast']=results.predict(start=90, end=103, dynamic=True)\n"
   ]
  },
  {
   "cell_type": "code",
   "execution_count": 78,
   "id": "1fab6889",
   "metadata": {},
   "outputs": [
    {
     "name": "stdout",
     "output_type": "stream",
     "text": [
      "RUNNING THE L-BFGS-B CODE\n",
      "\n",
      "           * * *\n",
      "\n",
      "Machine precision = 2.220D-16\n",
      " N =            3     M =           12\n",
      "\n",
      "At X0         0 variables are exactly at the bounds\n",
      "\n",
      "At iterate    0    f= -1.82049D+00    |proj g|=  5.47330D-02\n",
      "\n",
      "At iterate    5    f= -1.82049D+00    |proj g|=  2.09955D-02\n",
      "\n",
      "At iterate   10    f= -1.82049D+00    |proj g|=  2.78444D-05\n",
      "\n",
      "           * * *\n",
      "\n",
      "Tit   = total number of iterations\n",
      "Tnf   = total number of function evaluations\n",
      "Tnint = total number of segments explored during Cauchy searches\n",
      "Skip  = number of BFGS updates skipped\n",
      "Nact  = number of active bounds at final generalized Cauchy point\n",
      "Projg = norm of the final projected gradient\n",
      "F     = final function value\n",
      "\n",
      "           * * *\n",
      "\n",
      "   N    Tit     Tnf  Tnint  Skip  Nact     Projg        F\n",
      "    3     12     16      1     0     0   7.105D-07  -1.820D+00\n",
      "  F =  -1.8204926660136125     \n",
      "\n",
      "CONVERGENCE: REL_REDUCTION_OF_F_<=_FACTR*EPSMCH             \n",
      "                              ARMA Model Results                              \n",
      "==============================================================================\n",
      "Dep. Variable:             Difference   No. Observations:                 1796\n",
      "Model:                     ARMA(2, 0)   Log Likelihood                3269.605\n",
      "Method:                       css-mle   S.D. of innovations              0.039\n",
      "Date:                Wed, 19 Jan 2022   AIC                          -6531.210\n",
      "Time:                        16:10:41   BIC                          -6509.236\n",
      "Sample:                    09-18-2014   HQIC                         -6523.098\n",
      "                         - 08-18-2019                                         \n",
      "====================================================================================\n",
      "                       coef    std err          z      P>|z|      [0.025      0.975]\n",
      "------------------------------------------------------------------------------------\n",
      "const                0.0017      0.001      1.908      0.056   -4.73e-05       0.004\n",
      "ar.L1.Difference   1.19e-05      0.024      0.001      1.000      -0.046       0.046\n",
      "ar.L2.Difference    -0.0152      0.024     -0.644      0.519      -0.062       0.031\n",
      "                                    Roots                                    \n",
      "=============================================================================\n",
      "                  Real          Imaginary           Modulus         Frequency\n",
      "-----------------------------------------------------------------------------\n",
      "AR.1            0.0004           -8.1046j            8.1046           -0.2500\n",
      "AR.2            0.0004           +8.1046j            8.1046            0.2500\n",
      "-----------------------------------------------------------------------------\n"
     ]
    },
    {
     "name": "stderr",
     "output_type": "stream",
     "text": [
      " This problem is unconstrained.\n"
     ]
    }
   ],
   "source": [
    "# AR2 model\n",
    "model = ARMA(train.dropna(), order=(2,0)) #\n",
    "ar2 = model.fit()\n",
    "\n",
    "# summary of fit model\n",
    "print(ar2.summary())\n",
    "forecast_ar2 = ar2.predict(start=test.index[0], end=test.index[-1])"
   ]
  },
  {
   "cell_type": "code",
   "execution_count": 79,
   "id": "6e5fe191",
   "metadata": {},
   "outputs": [
    {
     "name": "stdout",
     "output_type": "stream",
     "text": [
      "RUNNING THE L-BFGS-B CODE\n",
      "\n",
      "           * * *\n",
      "\n",
      "Machine precision = 2.220D-16\n",
      " N =            2     M =           12\n",
      "\n",
      "At X0         0 variables are exactly at the bounds\n",
      "\n",
      "At iterate    0    f= -1.82038D+00    |proj g|=  3.44169D-06\n",
      "\n",
      "           * * *\n",
      "\n",
      "Tit   = total number of iterations\n",
      "Tnf   = total number of function evaluations\n",
      "Tnint = total number of segments explored during Cauchy searches\n",
      "Skip  = number of BFGS updates skipped\n",
      "Nact  = number of active bounds at final generalized Cauchy point\n",
      "Projg = norm of the final projected gradient\n",
      "F     = final function value\n",
      "\n",
      "           * * *\n",
      "\n",
      "   N    Tit     Tnf  Tnint  Skip  Nact     Projg        F\n",
      "    2      1      7      1     0     0   3.042D-06  -1.820D+00\n",
      "  F =  -1.8203771030329394     \n",
      "\n",
      "CONVERGENCE: REL_REDUCTION_OF_F_<=_FACTR*EPSMCH             \n",
      "                              ARMA Model Results                              \n",
      "==============================================================================\n",
      "Dep. Variable:             Difference   No. Observations:                 1796\n",
      "Model:                     ARMA(0, 1)   Log Likelihood                3269.397\n",
      "Method:                       css-mle   S.D. of innovations              0.039\n",
      "Date:                Wed, 19 Jan 2022   AIC                          -6532.795\n",
      "Time:                        16:10:45   BIC                          -6516.315\n",
      "Sample:                    09-18-2014   HQIC                         -6526.710\n",
      "                         - 08-18-2019                                         \n",
      "====================================================================================\n",
      "                       coef    std err          z      P>|z|      [0.025      0.975]\n",
      "------------------------------------------------------------------------------------\n",
      "const                0.0017      0.001      1.878      0.060    -7.6e-05       0.004\n",
      "ma.L1.Difference  4.172e-05      0.024      0.002      0.999      -0.047       0.047\n",
      "                                    Roots                                    \n",
      "=============================================================================\n",
      "                  Real          Imaginary           Modulus         Frequency\n",
      "-----------------------------------------------------------------------------\n",
      "MA.1       -23970.9896           +0.0000j        23970.9896            0.5000\n",
      "-----------------------------------------------------------------------------\n"
     ]
    },
    {
     "name": "stderr",
     "output_type": "stream",
     "text": [
      " This problem is unconstrained.\n"
     ]
    }
   ],
   "source": [
    "# MA1 model\n",
    "model = ARMA(train.dropna(), order=(0,1)) #\n",
    "ma1 = model.fit()\n",
    "\n",
    "# summary of fit model\n",
    "print(ma1.summary())\n",
    "forecast_ma1 = ma1.predict(start=test.index[0], end=test.index[-1])"
   ]
  },
  {
   "cell_type": "markdown",
   "id": "ca8e1a92",
   "metadata": {},
   "source": [
    "Please use AIC, BIC and error-based metrics for the estimations"
   ]
  },
  {
   "cell_type": "code",
   "execution_count": 80,
   "id": "d1c47852",
   "metadata": {},
   "outputs": [
    {
     "name": "stdout",
     "output_type": "stream",
     "text": [
      "RUNNING THE L-BFGS-B CODE\n",
      "\n",
      "           * * *\n",
      "\n",
      "Machine precision = 2.220D-16\n",
      " N =            3     M =           12\n",
      "\n",
      "At X0         0 variables are exactly at the bounds\n",
      "\n",
      "At iterate    0    f= -1.82050D+00    |proj g|=  2.28484D-05\n",
      "\n",
      "At iterate    5    f= -1.82050D+00    |proj g|=  1.86517D-06\n",
      "\n",
      "           * * *\n",
      "\n",
      "Tit   = total number of iterations\n",
      "Tnf   = total number of function evaluations\n",
      "Tnint = total number of segments explored during Cauchy searches\n",
      "Skip  = number of BFGS updates skipped\n",
      "Nact  = number of active bounds at final generalized Cauchy point\n",
      "Projg = norm of the final projected gradient\n",
      "F     = final function value\n",
      "\n",
      "           * * *\n",
      "\n",
      "   N    Tit     Tnf  Tnint  Skip  Nact     Projg        F\n",
      "    3      6     12      1     0     0   2.376D-06  -1.821D+00\n",
      "  F =  -1.8205011419053287     \n",
      "\n",
      "CONVERGENCE: REL_REDUCTION_OF_F_<=_FACTR*EPSMCH             \n",
      "                              ARMA Model Results                              \n",
      "==============================================================================\n",
      "Dep. Variable:             Difference   No. Observations:                 1796\n",
      "Model:                     ARMA(0, 2)   Log Likelihood                3269.620\n",
      "Method:                       css-mle   S.D. of innovations              0.039\n",
      "Date:                Wed, 19 Jan 2022   AIC                          -6531.240\n",
      "Time:                        16:10:48   BIC                          -6509.267\n",
      "Sample:                    09-18-2014   HQIC                         -6523.128\n",
      "                         - 08-18-2019                                         \n",
      "====================================================================================\n",
      "                       coef    std err          z      P>|z|      [0.025      0.975]\n",
      "------------------------------------------------------------------------------------\n",
      "const                0.0017      0.001      1.908      0.056   -4.72e-05       0.004\n",
      "ma.L1.Difference     0.0013      0.024      0.056      0.955      -0.045       0.048\n",
      "ma.L2.Difference    -0.0163      0.024     -0.668      0.504      -0.064       0.032\n",
      "                                    Roots                                    \n",
      "=============================================================================\n",
      "                  Real          Imaginary           Modulus         Frequency\n",
      "-----------------------------------------------------------------------------\n",
      "MA.1           -7.7873           +0.0000j            7.7873            0.5000\n",
      "MA.2            7.8684           +0.0000j            7.8684            0.0000\n",
      "-----------------------------------------------------------------------------\n"
     ]
    },
    {
     "name": "stderr",
     "output_type": "stream",
     "text": [
      " This problem is unconstrained.\n"
     ]
    }
   ],
   "source": [
    "# MA2 model\n",
    "model = ARMA(train.dropna(), order=(0,2)) #\n",
    "ma2 = model.fit()\n",
    "\n",
    "# summary of fit model\n",
    "print(ma2.summary())\n",
    "forecast_ma2 = ma2.predict(start=test.index[0], end=test.index[-1])"
   ]
  },
  {
   "cell_type": "code",
   "execution_count": 81,
   "id": "8a0f5894",
   "metadata": {},
   "outputs": [
    {
     "name": "stdout",
     "output_type": "stream",
     "text": [
      "RUNNING THE L-BFGS-B CODE\n",
      "\n",
      "           * * *\n",
      "\n",
      "Machine precision = 2.220D-16\n",
      " N =            4     M =           12\n",
      "\n",
      "At X0         0 variables are exactly at the bounds\n",
      "\n",
      "At iterate    0    f= -1.82037D+00    |proj g|=  5.23146D-02\n",
      "\n",
      "At iterate    5    f= -1.82038D+00    |proj g|=  2.19910D-02\n",
      "\n",
      "At iterate   10    f= -1.82038D+00    |proj g|=  2.24132D-04\n",
      "\n",
      "At iterate   15    f= -1.82038D+00    |proj g|=  1.91658D-03\n",
      "\n",
      "At iterate   20    f= -1.82038D+00    |proj g|=  7.58171D-04\n",
      "\n",
      "At iterate   25    f= -1.82038D+00    |proj g|=  5.59713D-02\n",
      "\n",
      "At iterate   30    f= -1.82040D+00    |proj g|=  3.38760D-01\n",
      "\n",
      "At iterate   35    f= -1.82071D+00    |proj g|=  2.03333D-01\n",
      "\n",
      "At iterate   40    f= -1.82099D+00    |proj g|=  9.23928D-04\n",
      "\n",
      "           * * *\n",
      "\n",
      "Tit   = total number of iterations\n",
      "Tnf   = total number of function evaluations\n",
      "Tnint = total number of segments explored during Cauchy searches\n",
      "Skip  = number of BFGS updates skipped\n",
      "Nact  = number of active bounds at final generalized Cauchy point\n",
      "Projg = norm of the final projected gradient\n",
      "F     = final function value\n",
      "\n",
      "           * * *\n",
      "\n",
      "   N    Tit     Tnf  Tnint  Skip  Nact     Projg        F\n",
      "    4     44     68      1     0     0   4.441D-08  -1.821D+00\n",
      "  F =  -1.8209931585283452     \n",
      "\n",
      "CONVERGENCE: REL_REDUCTION_OF_F_<=_FACTR*EPSMCH             \n",
      "                              ARMA Model Results                              \n",
      "==============================================================================\n",
      "Dep. Variable:             Difference   No. Observations:                 1796\n",
      "Model:                     ARMA(1, 2)   Log Likelihood                3270.504\n",
      "Method:                       css-mle   S.D. of innovations              0.039\n",
      "Date:                Wed, 19 Jan 2022   AIC                          -6531.007\n",
      "Time:                        16:10:51   BIC                          -6503.541\n",
      "Sample:                    09-18-2014   HQIC                         -6520.867\n",
      "                         - 08-18-2019                                         \n",
      "====================================================================================\n",
      "                       coef    std err          z      P>|z|      [0.025      0.975]\n",
      "------------------------------------------------------------------------------------\n",
      "const                0.0017      0.001      1.913      0.056   -4.28e-05       0.004\n",
      "ar.L1.Difference    -0.5291      0.224     -2.360      0.018      -0.968      -0.090\n",
      "ma.L1.Difference     0.5312      0.224      2.369      0.018       0.092       0.971\n",
      "ma.L2.Difference    -0.0278      0.023     -1.183      0.237      -0.074       0.018\n",
      "                                    Roots                                    \n",
      "=============================================================================\n",
      "                  Real          Imaginary           Modulus         Frequency\n",
      "-----------------------------------------------------------------------------\n",
      "AR.1           -1.8901           +0.0000j            1.8901            0.5000\n",
      "MA.1           -1.7267           +0.0000j            1.7267            0.5000\n",
      "MA.2           20.8445           +0.0000j           20.8445            0.0000\n",
      "-----------------------------------------------------------------------------\n"
     ]
    },
    {
     "name": "stderr",
     "output_type": "stream",
     "text": [
      " This problem is unconstrained.\n"
     ]
    }
   ],
   "source": [
    "# ARMA model\n",
    "model = ARMA(train.dropna(), order=(1,2)) #\n",
    "arma = model.fit()\n",
    "\n",
    "# summary of fit model\n",
    "print(arma.summary())\n",
    "forecast_arma = arma.predict(start=test.index[0], end=test.index[-1])"
   ]
  },
  {
   "cell_type": "code",
   "execution_count": 83,
   "id": "da950baa",
   "metadata": {},
   "outputs": [
    {
     "name": "stdout",
     "output_type": "stream",
     "text": [
      "RUNNING THE L-BFGS-B CODE\n",
      "\n",
      "           * * *\n",
      "\n",
      "Machine precision = 2.220D-16\n",
      " N =            3     M =           12\n",
      "\n",
      "At X0         0 variables are exactly at the bounds\n",
      "\n",
      "At iterate    0    f= -1.82037D+00    |proj g|=  5.20890D-02\n",
      "\n",
      "At iterate    5    f= -1.82038D+00    |proj g|=  1.51611D-02\n",
      "\n",
      "At iterate   10    f= -1.82038D+00    |proj g|=  5.81757D-06\n",
      "\n",
      "At iterate   15    f= -1.82038D+00    |proj g|=  3.62599D-05\n",
      "\n",
      "At iterate   20    f= -1.82038D+00    |proj g|=  1.64828D-03\n",
      "\n",
      "At iterate   25    f= -1.82038D+00    |proj g|=  1.71634D-03\n",
      "\n",
      "At iterate   30    f= -1.82038D+00    |proj g|=  2.93321D-05\n",
      "\n",
      "At iterate   35    f= -1.82038D+00    |proj g|=  1.16573D-05\n",
      "\n",
      "At iterate   40    f= -1.82038D+00    |proj g|=  2.70228D-05\n",
      "\n",
      "           * * *\n",
      "\n",
      "Tit   = total number of iterations\n",
      "Tnf   = total number of function evaluations\n",
      "Tnint = total number of segments explored during Cauchy searches\n",
      "Skip  = number of BFGS updates skipped\n",
      "Nact  = number of active bounds at final generalized Cauchy point\n",
      "Projg = norm of the final projected gradient\n",
      "F     = final function value\n",
      "\n",
      "           * * *\n",
      "\n",
      "   N    Tit     Tnf  Tnint  Skip  Nact     Projg        F\n",
      "    3     40     58      1     0     0   2.702D-05  -1.820D+00\n",
      "  F =  -1.8203784085250965     \n",
      "\n",
      "CONVERGENCE: REL_REDUCTION_OF_F_<=_FACTR*EPSMCH             \n",
      "                              ARMA Model Results                              \n",
      "==============================================================================\n",
      "Dep. Variable:             Difference   No. Observations:                 1796\n",
      "Model:                     ARMA(1, 1)   Log Likelihood                3269.400\n",
      "Method:                       css-mle   S.D. of innovations              0.039\n",
      "Date:                Wed, 19 Jan 2022   AIC                          -6530.799\n",
      "Time:                        16:11:38   BIC                          -6508.826\n",
      "Sample:                    09-18-2014   HQIC                         -6522.687\n",
      "                         - 08-18-2019                                         \n",
      "====================================================================================\n",
      "                       coef    std err          z      P>|z|      [0.025      0.975]\n",
      "------------------------------------------------------------------------------------\n",
      "const                0.0017      0.001      1.882      0.060   -7.21e-05       0.004\n",
      "ar.L1.Difference     0.2286      2.378      0.096      0.923      -4.432       4.889\n",
      "ma.L1.Difference    -0.2302      2.377     -0.097      0.923      -4.888       4.428\n",
      "                                    Roots                                    \n",
      "=============================================================================\n",
      "                  Real          Imaginary           Modulus         Frequency\n",
      "-----------------------------------------------------------------------------\n",
      "AR.1            4.3749           +0.0000j            4.3749            0.0000\n",
      "MA.1            4.3449           +0.0000j            4.3449            0.0000\n",
      "-----------------------------------------------------------------------------\n"
     ]
    },
    {
     "name": "stderr",
     "output_type": "stream",
     "text": [
      " This problem is unconstrained.\n"
     ]
    }
   ],
   "source": [
    "# ARMA model\n",
    "model = ARMA(train.dropna(), order=(1,1)) #\n",
    "arma11 = model.fit()\n",
    "\n",
    "# summary of fit model\n",
    "print(arma11.summary())\n",
    "forecast_arma11 = arma11.predict(start=test.index[0], end=test.index[-1])"
   ]
  },
  {
   "cell_type": "markdown",
   "id": "c4e9b150",
   "metadata": {},
   "source": [
    "What are the models with the best performance?"
   ]
  },
  {
   "cell_type": "markdown",
   "id": "060c5d0a",
   "metadata": {},
   "source": [
    "Create the function that allows to implement ARMA model, evaluate the result and choose one model with the best performance."
   ]
  },
  {
   "cell_type": "code",
   "execution_count": 124,
   "id": "82278e71",
   "metadata": {},
   "outputs": [
    {
     "name": "stdout",
     "output_type": "stream",
     "text": [
      "-6532.794554094318\n",
      "-6516.314602347732\n",
      "{'ARMA01': -6532.794554094318, 'ARMA02': -6531.240101723941, 'ARMA10': -6532.794553999396, 'ARMA20': -6531.209656320896, 'ARMA21': -6531.007425433816, 'ARMA11': -6530.799243422147}\n",
      "{'ARMA01': -6516.314602347732, 'ARMA02': -6509.266832728492, 'ARMA10': -6516.31460225281, 'ARMA20': -6509.236387325447, 'ARMA21': -6503.540839189505, 'ARMA11': -6508.825974426698}\n"
     ]
    }
   ],
   "source": [
    "models={'ARMA01':ma1,'ARMA02':ma2,'ARMA10':ar1,'ARMA20':ar2,'ARMA21':arma,'ARMA11':arma11}\n",
    "\n",
    "def check_arma_model(dicts_models):\n",
    "    models_AIC={}\n",
    "    models_BIC={}\n",
    "    for model in models.keys():\n",
    "    #    forecast = model.predict(start=test.index[0], end=test.index[-1]) \n",
    "        aic = models[model].aic\n",
    "        bic = models[model].bic\n",
    "        models_AIC[model]=aic\n",
    "        models_BIC[model]=bic\n",
    "    print(min(models_AIC.values()))\n",
    "    print(min(models_BIC.values()))\n",
    "    print(models_AIC)\n",
    "    print(models_BIC)\n",
    "\n",
    "\n",
    "check_arma_model(models)\n",
    "# the best model is ar1 : ARMA(1,0)"
   ]
  },
  {
   "cell_type": "markdown",
   "id": "5cdd138d",
   "metadata": {},
   "source": [
    "Make the forecast for the 5 periods"
   ]
  },
  {
   "cell_type": "code",
   "execution_count": 137,
   "id": "edf2ce29",
   "metadata": {},
   "outputs": [],
   "source": [
    "forecast_ar1 = ar1.predict(start=test.index[0], end='2022-01-24 00:00:00')"
   ]
  },
  {
   "cell_type": "code",
   "execution_count": 138,
   "id": "cf422ff8",
   "metadata": {},
   "outputs": [
    {
     "data": {
      "image/png": "[encoded data removed]",
      "text/plain": [
       "<Figure size 432x288 with 1 Axes>"
      ]
     },
     "metadata": {
      "needs_background": "light"
     },
     "output_type": "display_data"
    }
   ],
   "source": [
    "last_week = test.iloc[-5:]\n",
    "forecast_now = forecast_ar1.iloc[-10:]\n",
    "\n",
    "forecast_now.plot()\n",
    "last_week.plot()\n",
    "plt.legend()\n",
    "plt.show()"
   ]
  },
  {
   "cell_type": "markdown",
   "id": "2b5732ff",
   "metadata": {},
   "source": [
    "Make the conclusion"
   ]
  },
  {
   "cell_type": "markdown",
   "id": "1427b644",
   "metadata": {},
   "source": [
    "The price of bitcoin seems just under the prediction and should be stable in the 5 comming days."
   ]
  },
  {
   "cell_type": "markdown",
   "id": "bd5a4588",
   "metadata": {},
   "source": [
    "Make business conclusion answering the question, if I should buy Bitcoins"
   ]
  },
  {
   "cell_type": "markdown",
   "id": "b4dec42f",
   "metadata": {},
   "source": [
    "As the prediction is very close to reality, we should wait that the price drops significantly under the prediction"
   ]
  }
 ],
 "metadata": {
  "kernelspec": {
   "display_name": "Python 3 (ipykernel)",
   "language": "python",
   "name": "python3"
  },
  "language_info": {
   "codemirror_mode": {
    "name": "ipython",
    "version": 3
   },
   "file_extension": ".py",
   "mimetype": "text/x-python",
   "name": "python",
   "nbconvert_exporter": "python",
   "pygments_lexer": "ipython3",
   "version": "3.9.7"
  }
 },
 "nbformat": 4,
 "nbformat_minor": 5
}
