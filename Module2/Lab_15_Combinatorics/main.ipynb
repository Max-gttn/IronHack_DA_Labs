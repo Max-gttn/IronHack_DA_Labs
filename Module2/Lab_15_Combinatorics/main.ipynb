{
 "cells": [
  {
   "cell_type": "code",
   "execution_count": 11,
   "id": "6c27c6f3",
   "metadata": {},
   "outputs": [],
   "source": [
    "import math\n",
    "import numpy as np"
   ]
  },
  {
   "cell_type": "markdown",
   "id": "9e1f3643",
   "metadata": {},
   "source": [
    "## Challenge 1. Write a Python program to print all permutations of the string \"Ironhack\""
   ]
  },
  {
   "cell_type": "code",
   "execution_count": 2,
   "id": "19c4b1f4",
   "metadata": {},
   "outputs": [
    {
     "name": "stdout",
     "output_type": "stream",
     "text": [
      "40320\n"
     ]
    }
   ],
   "source": [
    "n = 8\n",
    "m = 8\n",
    "print(math.factorial(8))"
   ]
  },
  {
   "cell_type": "markdown",
   "id": "cb4de626",
   "metadata": {},
   "source": [
    "## Challenge 2: How many ways can you choose 3 people from a group of 17 for making the group projects teams?"
   ]
  },
  {
   "cell_type": "code",
   "execution_count": 4,
   "id": "3484d9c1",
   "metadata": {},
   "outputs": [
    {
     "name": "stdout",
     "output_type": "stream",
     "text": [
      "680.0\n"
     ]
    }
   ],
   "source": [
    "# combination\n",
    "\n",
    "n = 17\n",
    "m =3\n",
    "print((math.factorial(n))/(math.factorial(n-m)*math.factorial(m)))"
   ]
  },
  {
   "cell_type": "markdown",
   "id": "9b0c41a0",
   "metadata": {},
   "source": [
    "## Challenge 3:"
   ]
  },
  {
   "cell_type": "markdown",
   "id": "e1909af9",
   "metadata": {},
   "source": [
    "Let's imagine you need to organize the business processes in the coffee shop. You know that each cup can be made from 10 possible ingridients. But it is not profitable to use more than 5 portions of ingridients at once. These ingridients should not be unique (for example, you can put milk twice, and a chocolate onle). How many different variations of coffee you can include to the menu?"
   ]
  },
  {
   "cell_type": "code",
   "execution_count": 5,
   "id": "ebe4cd56",
   "metadata": {},
   "outputs": [
    {
     "name": "stdout",
     "output_type": "stream",
     "text": [
      "2002.0\n"
     ]
    }
   ],
   "source": [
    "# combination with repetition\n",
    "n = 10\n",
    "m = 5\n",
    "print(\n",
    "(math.factorial(m+n-1))/(math.factorial(m)*(math.factorial(n-1)))\n",
    ")"
   ]
  },
  {
   "cell_type": "markdown",
   "id": "95728d9d",
   "metadata": {},
   "source": [
    "## Challenge 4"
   ]
  },
  {
   "cell_type": "markdown",
   "id": "b2ed08e9",
   "metadata": {},
   "source": [
    "Given an array of distinct integers, return all the possible permutations. You can return the answer in any order. The lenght of array and the integers are given by user and may vary"
   ]
  },
  {
   "cell_type": "code",
   "execution_count": 43,
   "id": "2ee315d8",
   "metadata": {},
   "outputs": [],
   "source": [
    "def permutation(lst):\n",
    "    # If lst is empty then there are no permutations\n",
    "    if len(lst) == 0:\n",
    "        return []\n",
    "    # If there is only one element in lst then, only\n",
    "    # one permuatation is possible\n",
    "    if len(lst) == 1:\n",
    "        return [lst]\n",
    "    # Find the permutations for lst if there are\n",
    "    # more than 1 characters\n",
    "    l = [] # empty list that will store current permutation\n",
    " \n",
    "    # Iterate the input(lst) and calculate the permutation\n",
    "    for i in range(len(lst)):\n",
    "        m = lst[i]\n",
    "       # Extract lst[i] or m from the list.  remLst is\n",
    "       # remaining list\n",
    "        remLst = lst[:i] + lst[i+1:]\n",
    "       # Generating all permutations where m is first\n",
    "       # element\n",
    "        for p in permutation(remLst):\n",
    "            l.append([m] + p)\n",
    "\n",
    "    return l"
   ]
  },
  {
   "cell_type": "code",
   "execution_count": 44,
   "id": "85ca1985",
   "metadata": {},
   "outputs": [
    {
     "name": "stdout",
     "output_type": "stream",
     "text": [
      "enter array size: 5\n"
     ]
    },
    {
     "data": {
      "text/plain": [
       "[[8, 5, 1, 3, 7],\n",
       " [8, 5, 1, 7, 3],\n",
       " [8, 5, 3, 1, 7],\n",
       " [8, 5, 3, 7, 1],\n",
       " [8, 5, 7, 1, 3],\n",
       " [8, 5, 7, 3, 1],\n",
       " [8, 1, 5, 3, 7],\n",
       " [8, 1, 5, 7, 3],\n",
       " [8, 1, 3, 5, 7],\n",
       " [8, 1, 3, 7, 5],\n",
       " [8, 1, 7, 5, 3],\n",
       " [8, 1, 7, 3, 5],\n",
       " [8, 3, 5, 1, 7],\n",
       " [8, 3, 5, 7, 1],\n",
       " [8, 3, 1, 5, 7],\n",
       " [8, 3, 1, 7, 5],\n",
       " [8, 3, 7, 5, 1],\n",
       " [8, 3, 7, 1, 5],\n",
       " [8, 7, 5, 1, 3],\n",
       " [8, 7, 5, 3, 1],\n",
       " [8, 7, 1, 5, 3],\n",
       " [8, 7, 1, 3, 5],\n",
       " [8, 7, 3, 5, 1],\n",
       " [8, 7, 3, 1, 5],\n",
       " [5, 8, 1, 3, 7],\n",
       " [5, 8, 1, 7, 3],\n",
       " [5, 8, 3, 1, 7],\n",
       " [5, 8, 3, 7, 1],\n",
       " [5, 8, 7, 1, 3],\n",
       " [5, 8, 7, 3, 1],\n",
       " [5, 1, 8, 3, 7],\n",
       " [5, 1, 8, 7, 3],\n",
       " [5, 1, 3, 8, 7],\n",
       " [5, 1, 3, 7, 8],\n",
       " [5, 1, 7, 8, 3],\n",
       " [5, 1, 7, 3, 8],\n",
       " [5, 3, 8, 1, 7],\n",
       " [5, 3, 8, 7, 1],\n",
       " [5, 3, 1, 8, 7],\n",
       " [5, 3, 1, 7, 8],\n",
       " [5, 3, 7, 8, 1],\n",
       " [5, 3, 7, 1, 8],\n",
       " [5, 7, 8, 1, 3],\n",
       " [5, 7, 8, 3, 1],\n",
       " [5, 7, 1, 8, 3],\n",
       " [5, 7, 1, 3, 8],\n",
       " [5, 7, 3, 8, 1],\n",
       " [5, 7, 3, 1, 8],\n",
       " [1, 8, 5, 3, 7],\n",
       " [1, 8, 5, 7, 3],\n",
       " [1, 8, 3, 5, 7],\n",
       " [1, 8, 3, 7, 5],\n",
       " [1, 8, 7, 5, 3],\n",
       " [1, 8, 7, 3, 5],\n",
       " [1, 5, 8, 3, 7],\n",
       " [1, 5, 8, 7, 3],\n",
       " [1, 5, 3, 8, 7],\n",
       " [1, 5, 3, 7, 8],\n",
       " [1, 5, 7, 8, 3],\n",
       " [1, 5, 7, 3, 8],\n",
       " [1, 3, 8, 5, 7],\n",
       " [1, 3, 8, 7, 5],\n",
       " [1, 3, 5, 8, 7],\n",
       " [1, 3, 5, 7, 8],\n",
       " [1, 3, 7, 8, 5],\n",
       " [1, 3, 7, 5, 8],\n",
       " [1, 7, 8, 5, 3],\n",
       " [1, 7, 8, 3, 5],\n",
       " [1, 7, 5, 8, 3],\n",
       " [1, 7, 5, 3, 8],\n",
       " [1, 7, 3, 8, 5],\n",
       " [1, 7, 3, 5, 8],\n",
       " [3, 8, 5, 1, 7],\n",
       " [3, 8, 5, 7, 1],\n",
       " [3, 8, 1, 5, 7],\n",
       " [3, 8, 1, 7, 5],\n",
       " [3, 8, 7, 5, 1],\n",
       " [3, 8, 7, 1, 5],\n",
       " [3, 5, 8, 1, 7],\n",
       " [3, 5, 8, 7, 1],\n",
       " [3, 5, 1, 8, 7],\n",
       " [3, 5, 1, 7, 8],\n",
       " [3, 5, 7, 8, 1],\n",
       " [3, 5, 7, 1, 8],\n",
       " [3, 1, 8, 5, 7],\n",
       " [3, 1, 8, 7, 5],\n",
       " [3, 1, 5, 8, 7],\n",
       " [3, 1, 5, 7, 8],\n",
       " [3, 1, 7, 8, 5],\n",
       " [3, 1, 7, 5, 8],\n",
       " [3, 7, 8, 5, 1],\n",
       " [3, 7, 8, 1, 5],\n",
       " [3, 7, 5, 8, 1],\n",
       " [3, 7, 5, 1, 8],\n",
       " [3, 7, 1, 8, 5],\n",
       " [3, 7, 1, 5, 8],\n",
       " [7, 8, 5, 1, 3],\n",
       " [7, 8, 5, 3, 1],\n",
       " [7, 8, 1, 5, 3],\n",
       " [7, 8, 1, 3, 5],\n",
       " [7, 8, 3, 5, 1],\n",
       " [7, 8, 3, 1, 5],\n",
       " [7, 5, 8, 1, 3],\n",
       " [7, 5, 8, 3, 1],\n",
       " [7, 5, 1, 8, 3],\n",
       " [7, 5, 1, 3, 8],\n",
       " [7, 5, 3, 8, 1],\n",
       " [7, 5, 3, 1, 8],\n",
       " [7, 1, 8, 5, 3],\n",
       " [7, 1, 8, 3, 5],\n",
       " [7, 1, 5, 8, 3],\n",
       " [7, 1, 5, 3, 8],\n",
       " [7, 1, 3, 8, 5],\n",
       " [7, 1, 3, 5, 8],\n",
       " [7, 3, 8, 5, 1],\n",
       " [7, 3, 8, 1, 5],\n",
       " [7, 3, 5, 8, 1],\n",
       " [7, 3, 5, 1, 8],\n",
       " [7, 3, 1, 8, 5],\n",
       " [7, 3, 1, 5, 8]]"
      ]
     },
     "execution_count": 44,
     "metadata": {},
     "output_type": "execute_result"
    }
   ],
   "source": [
    "n = int(input('enter array size: '))\n",
    "lst = list(np.random.choice(a=9, size=n, replace=False))\n",
    "permutation(lst)"
   ]
  },
  {
   "cell_type": "markdown",
   "id": "d6f0b1d5",
   "metadata": {},
   "source": [
    "## Challenge 5"
   ]
  },
  {
   "cell_type": "markdown",
   "id": "731d6fb9",
   "metadata": {},
   "source": [
    "Use intertools library to solve the following problem: Six books are lying on a table in front of you. How many ways can you arrange the books, considering both the left-to-right order of the books and whether they’re set with the front cover facing up or down?"
   ]
  },
  {
   "cell_type": "code",
   "execution_count": 46,
   "id": "48226de2",
   "metadata": {},
   "outputs": [
    {
     "data": {
      "text/plain": [
       "665280"
      ]
     },
     "execution_count": 46,
     "metadata": {},
     "output_type": "execute_result"
    }
   ],
   "source": [
    "from itertools import permutations \n",
    "\n",
    "m = 6\n",
    "n = 12\n",
    "\n",
    "len(list(permutations(['1u','2u','3u','4u','5u','6u','1d','2d','3d','4d','5d','6d'],6)))"
   ]
  },
  {
   "cell_type": "code",
   "execution_count": null,
   "id": "f6bc1336",
   "metadata": {},
   "outputs": [],
   "source": []
  }
 ],
 "metadata": {
  "kernelspec": {
   "display_name": "Python 3 (ipykernel)",
   "language": "python",
   "name": "python3"
  },
  "language_info": {
   "codemirror_mode": {
    "name": "ipython",
    "version": 3
   },
   "file_extension": ".py",
   "mimetype": "text/x-python",
   "name": "python",
   "nbconvert_exporter": "python",
   "pygments_lexer": "ipython3",
   "version": "3.9.7"
  }
 },
 "nbformat": 4,
 "nbformat_minor": 5
}
