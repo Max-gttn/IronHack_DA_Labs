{
 "cells": [
  {
   "cell_type": "markdown",
   "id": "ff295c24",
   "metadata": {},
   "source": [
    "Define a method/function that removes from a given array of integers all the values contained in a second array.\n",
    "\n"
   ]
  },
  {
   "cell_type": "code",
   "execution_count": null,
   "id": "5c8ef0af",
   "metadata": {},
   "outputs": [],
   "source": [
    "l = List()\n",
    "\n",
    "integer_list =  [1, 1, 2 ,3 ,1 ,2 ,3 ,4]\n",
    "values_list = [1, 3]\n",
    "l.remove_(integer_list, values_list) == [2, 2, 4]\n",
    "\n",
    "integer_list = [1, 1, 2 ,3 ,1 ,2 ,3 ,4, 4, 3 ,5, 6, 7, 2, 8]\n",
    "lst = [1, 3, 4, 2]\n",
    "l.remove_(integer_list, values_list) == [5, 6 ,7 ,8]\n",
    "\n",
    "integer_list = [8, 2, 7, 2, 3, 4, 6, 5, 4, 4, 1, 2 , 3]\n",
    "lst = [2, 4, 3]\n",
    "l.remove_(integer_list, values_list) == [8, 7, 6, 5, 1]"
   ]
  },
  {
   "cell_type": "code",
   "execution_count": 21,
   "id": "6e48bfdc",
   "metadata": {},
   "outputs": [
    {
     "data": {
      "text/plain": [
       "[2, 2, 4]"
      ]
     },
     "execution_count": 21,
     "metadata": {},
     "output_type": "execute_result"
    }
   ],
   "source": [
    "list1 =  [1, 1, 2 ,3 ,1 ,2 ,3 ,4]\n",
    "list2 = [1, 3]\n",
    "\n",
    "def remove_(integer_list , values_list):\n",
    "    remove = []\n",
    "    for i in integer_list:\n",
    "        if i not in values_list:\n",
    "            remove.append(i)\n",
    "    return remove\n",
    "\n",
    "remove_(list1, list2)"
   ]
  },
  {
   "cell_type": "markdown",
   "id": "9c3bc2c6",
   "metadata": {},
   "source": [
    "We need a method in the List Class that may count specific digits from a given list of integers. This marked digits will be given in a second list. The method .count_spec_digits()/.countSpecDigits() will accept two arguments, a list of an uncertain amount of integers integers_lists/integersLists (and of an uncertain amount of digits, too) and a second list, digits_list/digitsList that has the specific digits to count which length cannot be be longer than 10 (It's obvious, we've got ten digits). The method will output a list of tuples, each tuple having two elements, the first one will be a digit to count, and second one, its corresponding total frequency in all the integers of the first list. This list of tuples should be ordered with the same order that the digits have in digitsList"
   ]
  },
  {
   "cell_type": "code",
   "execution_count": null,
   "id": "f91dd7c5",
   "metadata": {},
   "outputs": [],
   "source": [
    "l = List()\n",
    "\n",
    "integers_list =  [1, 1, 2 ,3 ,1 ,2 ,3 ,4]\n",
    "digits_list = [1, 3]\n",
    "l.count_spec_digits(integers_list, digits_list) == [(1, 3), (3, 2)]\n",
    "\n",
    "integers_list = [-18, -31, 81, -19, 111, -888]\n",
    "digits_list = [1, 8, 4]\n",
    "l.count_spec_digits(integers_list, digits_list) == [(1, 7), (8, 5), (4, 0)]\n",
    "\n",
    "integers_list = [-77, -65, 56, -79, 6666, 222]\n",
    "digits_list = [1, 8, 4]\n",
    "l.count_spec_digits(integers_list, digits_list) == [(1, 0), (8, 0), (4, 0)]"
   ]
  },
  {
   "cell_type": "code",
   "execution_count": 11,
   "id": "f348ff3a",
   "metadata": {},
   "outputs": [
    {
     "data": {
      "text/plain": [
       "[(1, 3), (3, 2), (4, 1)]"
      ]
     },
     "execution_count": 11,
     "metadata": {},
     "output_type": "execute_result"
    }
   ],
   "source": [
    "def count_spec_digits(integers_list, digits_list):\n",
    "    \n",
    "    str_list = []\n",
    "    count_list = []\n",
    "    count_spec_digits = []\n",
    "\n",
    "    for item in integers_list:\n",
    "        str_list.append(str(item))\n",
    "\n",
    "    str_list = \"\".join(str_list)\n",
    "\n",
    "    # create count list\n",
    "    for i in digits_list:\n",
    "        count_list.append(str_list.count(str(i)))\n",
    "    count_list\n",
    "\n",
    "    #create final list\n",
    "    for i in range(len(digits_list)):\n",
    "        count_spec_digits.append((digits_list[i],count_list[i]))\n",
    "    return count_spec_digits\n",
    "            \n",
    "list1 = [1, 1, 2 ,3 ,1 ,2 ,3 ,4]\n",
    "list2 = [1, 3, 4]\n",
    "count_spec_digits(list1, list2)"
   ]
  },
  {
   "cell_type": "code",
   "execution_count": null,
   "id": "8373d089",
   "metadata": {},
   "outputs": [],
   "source": [
    "Count the number of occurrences of each character and return it as a list of tuples in order of appearance. For empty output return an empty list.\n",
    "\n",
    "Example:\n",
    "\n",
    "ordered_count(\"abracadabra\") == [('a', 5), ('b', 2), ('r', 2), ('c', 1), ('d', 1)]\n"
   ]
  },
  {
   "cell_type": "code",
   "execution_count": 20,
   "id": "2c2d8806",
   "metadata": {},
   "outputs": [
    {
     "data": {
      "text/plain": [
       "[('a', 5), ('b', 2), ('r', 2), ('c', 1), ('d', 1)]"
      ]
     },
     "execution_count": 20,
     "metadata": {},
     "output_type": "execute_result"
    }
   ],
   "source": [
    "def ordered_count(word):\n",
    "\n",
    "    char_list = []\n",
    "    count_list=[]\n",
    "    ordered_count =[]\n",
    "    # create list with unique characters\n",
    "    for char in word:\n",
    "        if char not in char_list:\n",
    "            char_list.append(char)\n",
    "\n",
    "\n",
    "    # append count_list with char count\n",
    "    for char in char_list:\n",
    "        count_list.append(word.count(char))\n",
    "\n",
    "    #append ordered_cound with 2 previous lists\n",
    "\n",
    "    for i in range(len(char_list)):\n",
    "        ordered_count.append((char_list[i], count_list[i]))\n",
    "    return ordered_count\n",
    "    \n",
    "word1 = 'abracadabra'\n",
    "ordered_count(word1)"
   ]
  }
 ],
 "metadata": {
  "kernelspec": {
   "display_name": "Python 3 (ipykernel)",
   "language": "python",
   "name": "python3"
  },
  "language_info": {
   "codemirror_mode": {
    "name": "ipython",
    "version": 3
   },
   "file_extension": ".py",
   "mimetype": "text/x-python",
   "name": "python",
   "nbconvert_exporter": "python",
   "pygments_lexer": "ipython3",
   "version": "3.9.7"
  }
 },
 "nbformat": 4,
 "nbformat_minor": 5
}
