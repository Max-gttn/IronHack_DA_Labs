{
 "cells": [
  {
   "cell_type": "code",
   "execution_count": 48,
   "id": "fa6bad63",
   "metadata": {},
   "outputs": [
    {
     "name": "stdout",
     "output_type": "stream",
     "text": [
      "How many random strings to generate? 10\n",
      "Enter minimum string length: 4\n",
      "Enter maximum string length: 7\n"
     ]
    },
    {
     "data": {
      "text/plain": [
       "['zx33a9',\n",
       " 't7oy',\n",
       " 'plvkc',\n",
       " 'qmwkwf',\n",
       " 'balr',\n",
       " '96369',\n",
       " '3vg2fm',\n",
       " 'z02u',\n",
       " '9846ze',\n",
       " '7pr6']"
      ]
     },
     "execution_count": 48,
     "metadata": {},
     "output_type": "execute_result"
    }
   ],
   "source": [
    "# import libraries first\n",
    "import random\n",
    "import sys\n",
    "\n",
    "def RandomStringGenerator(min_str_len, max_str_len):\n",
    "    #define local variables first with explicit names\n",
    "    list_characters=['a','b','c','d','e','f','g','h','i','j','k','l','m','n','o','p','q','r','s','t','u','v','w','x','y','z','0','1','2','3','4','5','6','7','8','9']\n",
    "    random_len = random.choice(range(min_str_len, max_str_len))\n",
    "    string = ''\n",
    "\n",
    "    #generate random string\n",
    "    while len(string) < random_len:\n",
    "        string += random.choice(list_characters)           \n",
    "    \n",
    "    return string\n",
    "        \n",
    "def BatchStringGenerator():\n",
    "    # define local variables first with explicit names\n",
    "    random_list = []\n",
    "    num_str = int(input('How many random strings to generate? '))\n",
    "    min_str_len = int(input('Enter minimum string length: '))\n",
    "    max_str_len = int(input('Enter maximum string length: '))\n",
    "    \n",
    "    #make sure min_str_len > max_str_len\n",
    "    if min_str_len > max_str_len: \n",
    "        sys.exit(\"Incorrect min and max string lengths. Try again.\")\n",
    "\n",
    "    #create list of random strings\n",
    "    for i in range(num_str):\n",
    "        random_list.append(RandomStringGenerator(min_str_len,max_str_len))\n",
    "    \n",
    "    return random_list\n",
    "\n",
    "BatchStringGenerator()"
   ]
  },
  {
   "cell_type": "code",
   "execution_count": null,
   "id": "4cb426ec",
   "metadata": {},
   "outputs": [],
   "source": []
  }
 ],
 "metadata": {
  "kernelspec": {
   "display_name": "Python 3 (ipykernel)",
   "language": "python",
   "name": "python3"
  },
  "language_info": {
   "codemirror_mode": {
    "name": "ipython",
    "version": 3
   },
   "file_extension": ".py",
   "mimetype": "text/x-python",
   "name": "python",
   "nbconvert_exporter": "python",
   "pygments_lexer": "ipython3",
   "version": "3.9.7"
  }
 },
 "nbformat": 4,
 "nbformat_minor": 5
}
