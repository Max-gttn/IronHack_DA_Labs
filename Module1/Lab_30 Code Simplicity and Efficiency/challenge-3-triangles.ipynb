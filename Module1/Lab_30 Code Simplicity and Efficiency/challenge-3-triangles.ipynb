{
 "cells": [
  {
   "cell_type": "code",
   "execution_count": 26,
   "id": "c5c5d7a8",
   "metadata": {},
   "outputs": [
    {
     "name": "stdout",
     "output_type": "stream",
     "text": [
      "What is the maximal length of the triangle side? Enter a number: 20\n",
      "The longest side possible is 17\n"
     ]
    }
   ],
   "source": [
    "\"\"\"\n",
    "You are presented with an integer number larger than 5. Your goal is to identify the longest side\n",
    "possible in a right triangle whose sides are not longer than the number you are given.\n",
    "\n",
    "For example, if you are given the number 15, there are 3 possibilities to compose right triangles:\n",
    "\n",
    "1. [3, 4, 5]\n",
    "2. [6, 8, 10]\n",
    "3. [5, 12, 13]\n",
    "\n",
    "The following function shows one way to solve the problem but the code is not ideal or efficient.\n",
    "Refactor the code based on what you have learned about code simplicity and efficiency.\n",
    "\"\"\"\n",
    "\n",
    "# add whit space around operators\n",
    "def my_function():\n",
    "    # add variable declaration at first\n",
    "    X = int(input(\"What is the maximal length of the triangle side? Enter a number: \"))\n",
    "    solutions=[]\n",
    "    \n",
    "    # replace loop for generator expression\n",
    "    solutions = [[x, y, z] for x in range(5, X) for y in range(4, X) for z in range(3, X) if (x * x == y * y + z * z)]\n",
    "    \n",
    "    # eliminate uncessary loop\n",
    "    max_length = max(max(solutions))\n",
    "    \n",
    "    # Use the % instead of + operator in string formatting\n",
    "    print(\"The longest side possible is %s\" % (max_length))\n",
    "\n",
    "my_function()"
   ]
  }
 ],
 "metadata": {
  "kernelspec": {
   "display_name": "Python 3 (ipykernel)",
   "language": "python",
   "name": "python3"
  },
  "language_info": {
   "codemirror_mode": {
    "name": "ipython",
    "version": 3
   },
   "file_extension": ".py",
   "mimetype": "text/x-python",
   "name": "python",
   "nbconvert_exporter": "python",
   "pygments_lexer": "ipython3",
   "version": "3.9.7"
  }
 },
 "nbformat": 4,
 "nbformat_minor": 5
}
