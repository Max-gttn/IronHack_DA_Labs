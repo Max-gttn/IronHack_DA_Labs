{
 "cells": [
  {
   "cell_type": "code",
   "execution_count": 14,
   "id": "0a533b60",
   "metadata": {},
   "outputs": [
    {
     "name": "stdout",
     "output_type": "stream",
     "text": [
      "Welcome to this calculator!\n",
      "It can add and subtract whole numbers from zero to five\n",
      "Please choose your first number (zero to five): zero\n",
      "What do you want to do? plus or minus: plus\n",
      "Please choose your second number (zero to five): one\n",
      "zero plus one equals one\n",
      "Thanks for using this calculator, goodbye :)\n"
     ]
    }
   ],
   "source": [
    "\"\"\"\n",
    "This is a dumb calculator that can add and subtract whole numbers from zero to five.\n",
    "When you run the code, you are prompted to enter two numbers (in the form of English\n",
    "word instead of number) and the operator sign (also in the form of English word).\n",
    "The code will perform the calculation and give the result if your input is what it\n",
    "expects.\n",
    "\n",
    "The code is very long and messy. Refactor it according to what you have learned about\n",
    "code simplicity and efficiency.\n",
    "\"\"\"\n",
    "\n",
    "#print variables ex: \"<html>%s%s%s%s</html>\" % (head, prologue, query, tail)\n",
    "# define global variables zero=0, one=1, plus=+\n",
    "\n",
    "\n",
    "# Define dictionnaries to convert input string to integer and vice-versa\n",
    "number = {'zero':0,\n",
    "          'one':1,\n",
    "          'two':2,\n",
    "          'three':3,\n",
    "          'four':4,\n",
    "          'five':5}         # Five numbers possibilities\n",
    "\n",
    "answer = {-5:'negative five',\n",
    "          -4:'negative four',\n",
    "          -3:'negative three',\n",
    "          -2:'negative two',\n",
    "          -1:'negative one',\n",
    "          0:'zero',\n",
    "          1:'one',\n",
    "          2:'two',\n",
    "          3:'three',\n",
    "          4:'four',\n",
    "          5:'five'}  # Ten results possible\n",
    "\n",
    "# Define functions\n",
    "def calculation():\n",
    "    \n",
    "    print('Welcome to this calculator!')\n",
    "    print('It can add and subtract whole numbers from zero to five')\n",
    "       \n",
    "    \n",
    "    \n",
    "    # check if right inputs\n",
    "    numbers_possible = ['zero','one', 'two','three','four','five']\n",
    "    operators_possible = ['plus','minus']\n",
    "    \n",
    "    while True:\n",
    "        a = input('Please choose your first number (zero to five): ')\n",
    "        b = input('What do you want to do? plus or minus: ')\n",
    "        c = input('Please choose your second number (zero to five): ')\n",
    "        if (a not in numbers_possible) or (b not in operators_possible) or (c not in numbers_possible):\n",
    "            print(\"I am not able to answer this question. Check your input.\")\n",
    "        else:\n",
    "            break\n",
    "    \n",
    "    #calculation\n",
    "    if b == 'plus':\n",
    "        result = number[a] + number[c]\n",
    "        print(\"%s %s %s equals %s\"%(a,b,c,answer[result]))\n",
    "        print(\"Thanks for using this calculator, goodbye :)\")\n",
    "    else:\n",
    "        result = number[a] - number[b]\n",
    "        print(\"%s %s %s equals'%s\"%(a,b,c,answer[result]))\n",
    "        print(\"Thanks for using this calculator, goodbye :)\")\n",
    "\n",
    "calculation()"
   ]
  }
 ],
 "metadata": {
  "kernelspec": {
   "display_name": "Python 3 (ipykernel)",
   "language": "python",
   "name": "python3"
  },
  "language_info": {
   "codemirror_mode": {
    "name": "ipython",
    "version": 3
   },
   "file_extension": ".py",
   "mimetype": "text/x-python",
   "name": "python",
   "nbconvert_exporter": "python",
   "pygments_lexer": "ipython3",
   "version": "3.9.7"
  }
 },
 "nbformat": 4,
 "nbformat_minor": 5
}
