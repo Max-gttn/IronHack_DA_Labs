{
 "cells": [
  {
   "cell_type": "code",
   "execution_count": null,
   "id": "1e0b98fd",
   "metadata": {},
   "outputs": [],
   "source": [
    "'''\n",
    "What I learned :\n",
    "The organisation of code is well structured with functions defined before the running code itself\n",
    "explanations of functions to understand more easily the code\n",
    "'''"
   ]
  },
  {
   "cell_type": "code",
   "execution_count": null,
   "id": "0dc53f28",
   "metadata": {},
   "outputs": [],
   "source": [
    "'''\n",
    "Improvement I made :\n",
    "- Simplifying some aspect of code with removing of uncessary loops\n",
    "- Improvment of user experience by adding notes of the meaning of X or O in the feedback display so thaht the player understand it\n",
    "- overall I didn't see many improvement to make, the code is well structured and efficient, we could add lambda functions to shorten the code but we could lose readibility\n",
    "'''"
   ]
  },
  {
   "cell_type": "markdown",
   "id": "44f7b70e",
   "metadata": {},
   "source": [
    "#### Functions"
   ]
  },
  {
   "cell_type": "code",
   "execution_count": 23,
   "id": "969279c9",
   "metadata": {},
   "outputs": [
    {
     "data": {
      "text/plain": [
       "['G', 'G', 'G', 'B']"
      ]
     },
     "execution_count": 23,
     "metadata": {},
     "output_type": "execute_result"
    }
   ],
   "source": [
    "def functions_programm_code():\n",
    "    import random # import libraries first\n",
    "    options =['Y','B','R','G']\n",
    "    code = random.choices(options,k=4) #changed random method to make the code simpler\n",
    "    return code\n",
    "functions_programm_code()"
   ]
  },
  {
   "cell_type": "code",
   "execution_count": 25,
   "id": "dec6a9a9",
   "metadata": {},
   "outputs": [],
   "source": [
    "def inputfromuser():\n",
    "\n",
    "    print(\"\\n\\n**Rule reminder: you can only choose from the following 4 colors: B G R Y.**\")\n",
    "    print(\"**The colors will be assigned to in the order you type them.**\\n\\n\")\n",
    "    \n",
    "    colours = ['B','G','R','Y']\n",
    "    combo = []\n",
    "    \n",
    "    while len(combo)<4:\n",
    "        guess = input(\"Please type in your guess: \")\n",
    "        if guess in colours:\n",
    "            combo.append(guess)\n",
    "        else:\n",
    "            print(\"This is not a valid value, please try again.\")\n",
    " \n",
    "    print(\"You typed the following combination: \",combo)\n",
    "    return combo\n"
   ]
  },
  {
   "cell_type": "code",
   "execution_count": 24,
   "id": "1e4ece25",
   "metadata": {},
   "outputs": [],
   "source": [
    "def displayboard(combo):\n",
    "    \n",
    "    \n",
    "    print(\" _______ _______ _______ _______\")\n",
    "    print(\"|       |       |       |       |\")\n",
    "    print(f\"|   {combo[0]}   |   {combo[1]}   |   {combo[2]}   |   {combo[3]}   |\")\n",
    "    print(\"|_______|_______|_______|_______|\")\n"
   ]
  },
  {
   "cell_type": "code",
   "execution_count": 29,
   "id": "84662b5e",
   "metadata": {},
   "outputs": [],
   "source": [
    "def check_win(answer,guess):\n",
    "    '''This function checks if the palyer won the game i.e. if the answer list and guess list are exactly the same '''\n",
    "    count_win = 0\n",
    "    for ind in range(len(answer)):\n",
    "        if answer[ind] == guess[ind]:\n",
    "            count_win += 1\n",
    "    \n",
    "    if count_win == 4:\n",
    "        return True\n",
    "    else:\n",
    "        return False"
   ]
  },
  {
   "cell_type": "code",
   "execution_count": 27,
   "id": "36f63565",
   "metadata": {},
   "outputs": [],
   "source": [
    "def check_guess(answer,guess):\n",
    "    '''This function will create a feedback for the player to show him if he guessed correctly the color and the position (symbol V) or color (symbol v)'''\n",
    "    #First I create the copy of all the answer and guess list in order to make chages in them and do not affect the original lists\n",
    "    answer_feed = answer[:]\n",
    "    guess_feed = guess[:]\n",
    "    \n",
    "    #I create an empty list to keep track of the user score/feedback\n",
    "    feedback = []\n",
    "    \n",
    "    #I compare the lists answer and guess in order to check if there is a right color in the right position\n",
    "    #At the same time in order to faiclitate the further analysis I change the correct elements from lists answer_feed and guess_feed\n",
    "    for ind in range(len(answer)):\n",
    "        if answer[ind] == guess[ind]:\n",
    "            feedback.append(\"O\")\n",
    "            answer_feed[ind] = ' '\n",
    "            guess_feed[ind] = 'd'\n",
    "    \n",
    "    #Now I check if user correctly guessed the color in the answer\n",
    "    for ind in range(len(answer_feed)):\n",
    "        if guess_feed[ind] in answer_feed:\n",
    "            feedback.append('X')\n",
    "            answer_feed.remove(guess_feed[ind])\n",
    "            \n",
    "    #Since feedback should be a list with 4 elements, I append empty elements to it. This will facilitate display \n",
    "    while len(feedback) <4:\n",
    "        feedback.append(' ')\n",
    "    \n",
    "    return feedback"
   ]
  },
  {
   "cell_type": "markdown",
   "id": "b7a04776",
   "metadata": {},
   "source": []
  },
  {
   "cell_type": "markdown",
   "id": "f06ee7c2",
   "metadata": {},
   "source": [
    "## GAME MasterMind\n"
   ]
  },
  {
   "cell_type": "markdown",
   "id": "c450da1a",
   "metadata": {},
   "source": [
    "### Rules of the game"
   ]
  },
  {
   "cell_type": "code",
   "execution_count": 59,
   "id": "03fd5e64",
   "metadata": {},
   "outputs": [
    {
     "name": "stdout",
     "output_type": "stream",
     "text": [
      "\n",
      "***************************************Let's play MasterMind***************************************************\n",
      "\n",
      "The programm is going to create a random code of 4 colored elements among a range of 4 definits \n",
      "colours:\n",
      "\tblue (B),\n",
      "\tred (R),\n",
      "\tyellow (Y),\n",
      "\tgreen (G).\n",
      "\n",
      "The code can contain the same colors several times.\n",
      "Your goal is to find the combination displayed by the programm by making as few attempts as possible.\n",
      "To find the right combination you have to try a combination one after the other \n",
      "until your proposed combination matches the one in the programm, \n",
      "i.e. each element matches the right colour in the right spot.\n",
      "To allow the player find the solution, \n",
      "the program gives clues as to whether the combination matches the one proposed by the player.\n",
      "It then returns information in the following ways:\n",
      "\t-each X corresponds to an element of the right colour, but misplaced.\n",
      "\t-each O corresponds to an element of the right colour and well placed.\n",
      "The order of the V and v does not match the order of the combination.\n",
      "\n",
      "\n",
      "**********************************************Good luck !*******************************************************\n",
      "\n",
      "\n"
     ]
    }
   ],
   "source": [
    "\n",
    "\n",
    "rules = '''\n",
    "***************************************Let's play MasterMind***************************************************\n",
    "\n",
    "The programm is going to display a random code of 4 colored elements among a range of 4 definits \n",
    "colours:\n",
    "\\tblue (B),\n",
    "\\tred (R),\n",
    "\\tyellow (Y),\n",
    "\\tgreen (G).\n",
    "\n",
    "The code can contain the same colors several times.\n",
    "Your goal is to find the combination displayed by the programm by making as few attempts as possible.\n",
    "To find the right combination you have to try a combination one after the other \n",
    "until your proposed combination matches the one in the programm, \n",
    "i.e. each element matches the right colour in the right spot.\n",
    "To allow the player find the solution, \n",
    "the program gives clues as to whether the combination matches the one proposed by the player.\n",
    "It then returns information in the following ways:\n",
    "\\t-each X corresponds to an element of the right colour, but misplaced.\n",
    "\\t-each O corresponds to an element of the right colour and well placed.\n",
    "The order of the V and v does not match the order of the combination.\n",
    "\n",
    "\n",
    "**********************************************Good luck !*******************************************************\n",
    "\n",
    "'''\n",
    "print(rules)"
   ]
  },
  {
   "cell_type": "markdown",
   "id": "6356933f",
   "metadata": {},
   "source": [
    "### Game structure"
   ]
  },
  {
   "cell_type": "code",
   "execution_count": null,
   "id": "0027ac4e",
   "metadata": {},
   "outputs": [
    {
     "name": "stdout",
     "output_type": "stream",
     "text": [
      "\n",
      "\n",
      "**Rule reminder: you can only choose from the following 4 colors: B G R Y.**\n",
      "**The colors will be assigned to in the order you type them.**\n",
      "\n",
      "\n",
      "Please type in your guess: B\n",
      "Please type in your guess: G\n",
      "Please type in your guess: G\n",
      "Please type in your guess: G\n",
      "You typed the following combination:  ['B', 'G', 'G', 'G']\n",
      " _______ _______ _______ _______\n",
      "|       |       |       |       |\n",
      "|   B   |   G   |   G   |   G   |\n",
      "|_______|_______|_______|_______|\n",
      "\n",
      "This is a feedback from your last guess:\n",
      "\n",
      " _______ _______ _______ _______\n",
      "|       |       |       |       |\n",
      "|   X   |   X   |       |       |\n",
      "|_______|_______|_______|_______|\n",
      "Not quite there.\n"
     ]
    }
   ],
   "source": [
    "#We start the game \n",
    "game_on = True \n",
    "\n",
    "while game_on:\n",
    "    #We start by creating a code to by guessed by the player\n",
    "    code = functions_programm_code()\n",
    "    \n",
    "    #We create a counter of player guesses\n",
    "    counter = 1\n",
    "    \n",
    "    #We ask for user input\n",
    "    combo = inputfromuser()\n",
    "    \n",
    "    #Now we display the board with user input\n",
    "    displayboard(combo)\n",
    "    \n",
    "    feedback = check_guess(code,combo)\n",
    "    print(\"\\nThis is a feedback from your last guess:\\n\")\n",
    "    displayboard(feedback)\n",
    "    \n",
    "    #Now we chek if the user won\n",
    "    if check_win(code,combo) == True:\n",
    "        print(f\"\\n********************Congrats you won!!!******************\\n\\nIt took you {counter} guesses\")\n",
    "        if counter < 3:\n",
    "            print(\"\\n\\t\\tYou're a genius!\")\n",
    "        elif 3<=counter <10:\n",
    "            print(\"\\n\\t\\tGood job!\")\n",
    "        else:\n",
    "            print(\"\\n\\t\\tNot bad, but you can do better!\")\n",
    "        game_on = False\n",
    "        \n",
    "        #Here we ask if the player wants to play again\n",
    "        again = input(\"Do you want to play again? Y/N\")\n",
    "        while again not in ['Y', 'N']:\n",
    "            print(\"I didn't understand. Try again\")\n",
    "            again=input(\"Y or N:\")\n",
    "        if again == 'Y':\n",
    "            game_on = True\n",
    "        else:\n",
    "            print(\"Thanks for playing\")\n",
    "        \n",
    "    else:\n",
    "        print(\"Not quite there.\")\n",
    "        player_ans = input(\"Do you want to try again? Y/N:\")\n",
    "        while player_ans not in ['Y', 'N']:\n",
    "            print(\"I didn't understand. Try again\")\n",
    "            player_ans=input(\"Y or N:\")\n",
    "    \n",
    "        #We check and continue depending on the user input\n",
    "        if player_ans == 'N':\n",
    "            print(\"Thanks for playing\\nBetter luck next time.\")\n",
    "            break\n",
    "        else:\n",
    "            counter +=1"
   ]
  },
  {
   "cell_type": "code",
   "execution_count": null,
   "id": "8b711a08",
   "metadata": {},
   "outputs": [],
   "source": []
  }
 ],
 "metadata": {
  "kernelspec": {
   "display_name": "Python 3 (ipykernel)",
   "language": "python",
   "name": "python3"
  },
  "language_info": {
   "codemirror_mode": {
    "name": "ipython",
    "version": 3
   },
   "file_extension": ".py",
   "mimetype": "text/x-python",
   "name": "python",
   "nbconvert_exporter": "python",
   "pygments_lexer": "ipython3",
   "version": "3.9.7"
  }
 },
 "nbformat": 4,
 "nbformat_minor": 5
}
