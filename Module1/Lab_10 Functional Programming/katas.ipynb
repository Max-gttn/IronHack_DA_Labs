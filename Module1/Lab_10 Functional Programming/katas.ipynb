{
 "cells": [
  {
   "cell_type": "markdown",
   "id": "38210ced",
   "metadata": {},
   "source": [
    "Counting sheep...\n",
    "\n",
    "Consider an array/list of sheep where some sheep may be missing from their place. We need a function that counts the number of sheep present in the array (true means present).\n",
    "\n",
    "Hint: Don't forget to check for bad values like null/undefined"
   ]
  },
  {
   "cell_type": "code",
   "execution_count": 3,
   "id": "1914c7ff",
   "metadata": {},
   "outputs": [
    {
     "name": "stdout",
     "output_type": "stream",
     "text": [
      "17\n"
     ]
    }
   ],
   "source": [
    "sheeps = [True,  True,  True,  False,\n",
    "  True,  True,  True,  True ,\n",
    "  True,  False, True,  False,\n",
    "  True,  False, False, True ,\n",
    "  True,  True,  True,  True ,\n",
    "  False, False, True,  True]\n",
    "count=0\n",
    "\n",
    "for i in sheeps:\n",
    "    if i is True:\n",
    "        count +=1\n",
    "print(count)"
   ]
  },
  {
   "cell_type": "markdown",
   "id": "ab8d7c4a",
   "metadata": {},
   "source": [
    "Removing Elements\n",
    "\n",
    "Take an array and remove every second element from the array. Always keep the first element and start removing with the next element."
   ]
  },
  {
   "cell_type": "code",
   "execution_count": 6,
   "id": "33abf932",
   "metadata": {},
   "outputs": [
    {
     "name": "stdout",
     "output_type": "stream",
     "text": [
      "['Keep', 'Keep', 'Keep']\n"
     ]
    }
   ],
   "source": [
    "list1 =[\"Keep\", \"Remove\", \"Keep\", \"Remove\", \"Keep\"]\n",
    "list2=[]\n",
    "\n",
    "for i in range(len(list1)):\n",
    "    if i%2==0:\n",
    "        list2.append(list1[i])\n",
    "print(list2)\n",
    "    \n",
    "\n"
   ]
  },
  {
   "cell_type": "markdown",
   "id": "f02db30f",
   "metadata": {},
   "source": [
    "Convert number to reversed array of digits\n",
    "\n",
    "Given a random non-negative number, you have to return the digits of this number within an array in reverse order."
   ]
  },
  {
   "cell_type": "code",
   "execution_count": null,
   "id": "4ce68e40",
   "metadata": {},
   "outputs": [],
   "source": [
    "348597 => [7,9,5,8,4,3]"
   ]
  },
  {
   "cell_type": "code",
   "execution_count": 38,
   "id": "eb894239",
   "metadata": {},
   "outputs": [
    {
     "name": "stdout",
     "output_type": "stream",
     "text": [
      "[0, 2, 3, 7, 6]\n"
     ]
    }
   ],
   "source": [
    "number = 67320\n",
    "\n",
    "array=[]\n",
    "\n",
    "for i in str(number):\n",
    "    array.append(int(i))\n",
    "    \n",
    "reverse_array = array[::-1]\n",
    "print(reverse_array)\n",
    "    "
   ]
  },
  {
   "cell_type": "markdown",
   "id": "8b4bd65d",
   "metadata": {},
   "source": [
    "Welcome. In this kata, you are asked to square every digit of a number and concatenate them.\n",
    "\n",
    "For example, if we run 9119 through the function, 811181 will come out, because 92 is 81 and 12 is 1.\n",
    "\n",
    "Note: The function accepts an integer and returns an integer"
   ]
  },
  {
   "cell_type": "code",
   "execution_count": 47,
   "id": "138b810d",
   "metadata": {},
   "outputs": [
    {
     "name": "stdout",
     "output_type": "stream",
     "text": [
      "6494936\n"
     ]
    }
   ],
   "source": [
    "number = 8376\n",
    "square_number_list = []\n",
    "square_number = \"\"\n",
    "for i in str(number):\n",
    "    s = int(i)**2\n",
    "    square_number_list.append(s)\n",
    "    square_number +=str(s)\n",
    "print(square_number)\n",
    "    "
   ]
  },
  {
   "cell_type": "markdown",
   "id": "b2855805",
   "metadata": {},
   "source": [
    "Method For Counting Total Occurence Of Specific Digits\n",
    "\n",
    "We need a method in the List Class that may count specific digits from a given list of integers. This marked digits will be given in a second list. The method .count_spec_digits()/.countSpecDigits() will accept two arguments, a list of an uncertain amount of integers integers_lists/integersLists (and of an uncertain amount of digits, too) and a second list, digits_list/digitsList that has the specific digits to count which length cannot be be longer than 10 (It's obvious, we've got ten digits). The method will output a list of tuples, each tuple having two elements, the first one will be a digit to count, and second one, its corresponding total frequency in all the integers of the first list. This list of tuples should be ordered with the same order that the digits have in digitsList\n",
    "\n",
    "Let's see some cases:"
   ]
  },
  {
   "cell_type": "code",
   "execution_count": null,
   "id": "a7f03b79",
   "metadata": {},
   "outputs": [],
   "source": [
    "l = list()\n",
    "\n",
    "integers_list =  [1, 1, 2 ,3 ,1 ,2 ,3 ,4]\n",
    "digits_list = [1, 3]\n",
    "l.count_spec_digits(integers_list, digits_list) == [(1, 3), (3, 2)]\n",
    "\n",
    "integers_list = [-18, -31, 81, -19, 111, -888]\n",
    "digits_list = [1, 8, 4]\n",
    "l.count_spec_digits(integers_list, digits_list) == [(1, 7), (8, 5), (4, 0)]\n",
    "\n",
    "integers_list = [-77, -65, 56, -79, 6666, 222]\n",
    "digits_list = [1, 8, 4]\n",
    "l.count_spec_digits(integers_list, digits_list) == [(1, 0), (8, 0), (4, 0)]"
   ]
  },
  {
   "cell_type": "code",
   "execution_count": 4,
   "id": "8f58ca00",
   "metadata": {},
   "outputs": [
    {
     "name": "stdout",
     "output_type": "stream",
     "text": [
      "[(1, 3), (3, 2), (4, 1)]\n"
     ]
    }
   ],
   "source": [
    "#transform list into string\n",
    "integers_list = [1, 1, 2 ,3 ,1 ,2 ,3 ,4]\n",
    "digits_list = [1, 3, 4]\n",
    "str_list = []\n",
    "count_list = []\n",
    "count_spec_digits = []\n",
    "\n",
    "for item in integers_list:\n",
    "    str_list.append(str(item))\n",
    "                    \n",
    "str_list = \"\".join(str_list)\n",
    "\n",
    "# create count list\n",
    "for i in digits_list:\n",
    "    count_list.append(str_list.count(str(i)))\n",
    "count_list\n",
    "    \n",
    "#create final list\n",
    "for i in range(len(digits_list)):\n",
    "    count_spec_digits.append((digits_list[i],count_list[i]))\n",
    "print(count_spec_digits)"
   ]
  },
  {
   "cell_type": "code",
   "execution_count": null,
   "id": "8831f8f9",
   "metadata": {},
   "outputs": [],
   "source": [
    "\n"
   ]
  },
  {
   "cell_type": "code",
   "execution_count": null,
   "id": "b95321e7",
   "metadata": {},
   "outputs": [],
   "source": []
  },
  {
   "cell_type": "code",
   "execution_count": null,
   "id": "a93e3824",
   "metadata": {},
   "outputs": [],
   "source": []
  }
 ],
 "metadata": {
  "kernelspec": {
   "display_name": "Python 3 (ipykernel)",
   "language": "python",
   "name": "python3"
  },
  "language_info": {
   "codemirror_mode": {
    "name": "ipython",
    "version": 3
   },
   "file_extension": ".py",
   "mimetype": "text/x-python",
   "name": "python",
   "nbconvert_exporter": "python",
   "pygments_lexer": "ipython3",
   "version": "3.9.7"
  }
 },
 "nbformat": 4,
 "nbformat_minor": 5
}
