{
 "cells": [
  {
   "cell_type": "code",
   "execution_count": null,
   "id": "016a5b45",
   "metadata": {},
   "outputs": [],
   "source": [
    "# clue 1 : You vaguely remember that the crime was a ​murder​ that occurred sometime on ​Jan.15, 2018​ and that it took place in ​SQL City​"
   ]
  },
  {
   "cell_type": "code",
   "execution_count": null,
   "id": "b4d9b375",
   "metadata": {},
   "outputs": [],
   "source": [
    "# check element in the crime_scene_report\n",
    "SELECT * FROM crime_scene_report\n",
    "WHERE city='SQL City' and date = 20180115 and type = 'murder';\n",
    "\n",
    "# clue 2 : Security footage shows that there were 2 witnesses. \n",
    "#The first witness lives at the last house on \"Northwestern Dr\". \n",
    "#The second witness, named Annabel, lives somewhere on \"Franklin Ave\"."
   ]
  },
  {
   "cell_type": "code",
   "execution_count": null,
   "id": "747ec2db",
   "metadata": {},
   "outputs": [],
   "source": [
    "#retrieve witness 2\n",
    "SELECT * FROM person\n",
    "WHERE name like \"Annabel%\" and address_street_name like \"%Franklin Ave%\";\n",
    "# clue 3 : id = 16371, Annabel Miller, licence_id = 490173, ssn = 318771143"
   ]
  },
  {
   "cell_type": "code",
   "execution_count": null,
   "id": "d1bc4995",
   "metadata": {},
   "outputs": [],
   "source": [
    "# check interview Annabel\n",
    "SELECT * FROM interview\n",
    "WHERE person_id = 16371\n",
    "\n",
    "# clue 4 : transcript : I saw the murder happen, and \n",
    "#I recognized the killer from my gym when I was working out last week on January the 9th."
   ]
  },
  {
   "cell_type": "code",
   "execution_count": null,
   "id": "d529e6b4",
   "metadata": {},
   "outputs": [],
   "source": [
    "#check gym membership Annabel : : id membership : 90081, membership start date: 20160208, status: gold\n",
    "SELECT * FROM get_fit_now_member\n",
    "WHERE name = 'Annabel Miller';\n",
    "\n",
    "# verify Annabel statement\n",
    "SELECT * FROM get_fit_now_check_in\n",
    "WHERE membership_id = 90081;\n",
    "\n",
    "#check check in date : ok with interview (2018-01-09) at the gym between 16h and 17h"
   ]
  },
  {
   "cell_type": "code",
   "execution_count": null,
   "id": "9da5cf87",
   "metadata": {},
   "outputs": [],
   "source": [
    "#check other members of gym present between 16h and 17h\n",
    "SELECT * FROM get_fit_now_check_in\n",
    "WHERE check_in_date = 20180109 and check_out_time > 1600;\n",
    "#clue 5 : \n",
    "#suspect 1: membership_id = 48Z7A\n",
    "#suspect : membership_id = 48Z55"
   ]
  },
  {
   "cell_type": "code",
   "execution_count": null,
   "id": "41bf1070",
   "metadata": {},
   "outputs": [],
   "source": [
    "# retrieve suspect names and id\n",
    "SELECT * FROM get_fit_now_member\n",
    "WHERE id = '48Z7A' or id = '48Z55';\n",
    "\n",
    "#clue 6\n",
    "# suspect 1: person_id=67318 , name = 'Jeremy Bowers'\n",
    "# suspect 1: person_id=28819, name = 'Joe Germuska'"
   ]
  },
  {
   "cell_type": "code",
   "execution_count": null,
   "id": "e2e5f8e6",
   "metadata": {},
   "outputs": [],
   "source": [
    "# retrieve interview from suspect\n",
    "\n",
    "#clue 7\n",
    "# suspect 1 : Jeremy Bowers, interview :  was hired by a woman with a lot of money. \n",
    "#I don't know her name but I know she's around 5'5\" (65\") or 5'7\" (67\"). \n",
    "#She has red hair and she drives a Tesla Model S. \n",
    "#I know that she attended the SQL Symphony Concert 3 times in December 2017."
   ]
  },
  {
   "cell_type": "code",
   "execution_count": null,
   "id": "a84ac0d8",
   "metadata": {},
   "outputs": [],
   "source": [
    "# retrieve employer of Jeremy Bowers\n",
    "\n",
    "#check who went to symphony concert 3 times in december 2017\n",
    "SELECT person_id, COUNT(*) FROM facebook_event_checkin\n",
    "WHERE event_name like '%Symphony Concert%' and date between 20171130 and 20171231\n",
    "GROUP BY person_id\n",
    "ORDER BY 2 DESC\n",
    "\n",
    "#clue 8 : person_id=24556 & person_id=99716\n",
    "\n",
    "SELECT * FROM person\n",
    "WHERE id = 24556 or id=99716\n",
    "\n",
    "# clue 9 : employer probably id=99716 Miranda Priestly, ssn=987756388,license_id=202298 because female\n",
    "#check if Miranda is indeed the employer of Jeremy\n",
    "SELECT * FROM drivers_license\n",
    "WHERE id =202298\n",
    "# Miranda owns a Tesla Model S as describe by Jeremy, she is the murderer!"
   ]
  }
 ],
 "metadata": {
  "kernelspec": {
   "display_name": "Python 3 (ipykernel)",
   "language": "python",
   "name": "python3"
  },
  "language_info": {
   "codemirror_mode": {
    "name": "ipython",
    "version": 3
   },
   "file_extension": ".py",
   "mimetype": "text/x-python",
   "name": "python",
   "nbconvert_exporter": "python",
   "pygments_lexer": "ipython3",
   "version": "3.9.7"
  }
 },
 "nbformat": 4,
 "nbformat_minor": 5
}
